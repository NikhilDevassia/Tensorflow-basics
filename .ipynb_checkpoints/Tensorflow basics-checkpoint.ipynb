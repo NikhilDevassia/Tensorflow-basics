{
 "cells": [
  {
   "cell_type": "code",
   "execution_count": 1,
   "id": "25a6b256",
   "metadata": {},
   "outputs": [],
   "source": [
    "import tensorflow as tf"
   ]
  },
  {
   "cell_type": "code",
   "execution_count": 2,
   "id": "6b030da5",
   "metadata": {},
   "outputs": [
    {
     "name": "stdout",
     "output_type": "stream",
     "text": [
      "2.6.0\n"
     ]
    }
   ],
   "source": [
    "print(tf.__version__)"
   ]
  },
  {
   "cell_type": "markdown",
   "id": "0755fe6c",
   "metadata": {},
   "source": [
    "#### Creating Tensors with tf.constant()<br>\n",
    "constant tensors are immutable"
   ]
  },
  {
   "cell_type": "code",
   "execution_count": 5,
   "id": "ca76ecb9",
   "metadata": {},
   "outputs": [],
   "source": [
    "scalar = tf.constant(7)"
   ]
  },
  {
   "cell_type": "code",
   "execution_count": 6,
   "id": "c8c5b4ba",
   "metadata": {},
   "outputs": [
    {
     "data": {
      "text/plain": [
       "0"
      ]
     },
     "execution_count": 6,
     "metadata": {},
     "output_type": "execute_result"
    }
   ],
   "source": [
    "# checking dimension\n",
    "scalar.ndim"
   ]
  },
  {
   "cell_type": "code",
   "execution_count": 8,
   "id": "3cc00d70",
   "metadata": {},
   "outputs": [
    {
     "data": {
      "text/plain": [
       "<tf.Tensor: shape=(2,), dtype=int32, numpy=array([1, 2])>"
      ]
     },
     "execution_count": 8,
     "metadata": {},
     "output_type": "execute_result"
    }
   ],
   "source": [
    "# Create a vector (more than 0 dimensions)\n",
    "vector = tf.constant([1,2])\n",
    "vector"
   ]
  },
  {
   "cell_type": "code",
   "execution_count": 9,
   "id": "5b0618e9",
   "metadata": {},
   "outputs": [
    {
     "data": {
      "text/plain": [
       "1"
      ]
     },
     "execution_count": 9,
     "metadata": {},
     "output_type": "execute_result"
    }
   ],
   "source": [
    "vector.ndim"
   ]
  },
  {
   "cell_type": "code",
   "execution_count": 10,
   "id": "5553aee6",
   "metadata": {},
   "outputs": [
    {
     "data": {
      "text/plain": [
       "<tf.Tensor: shape=(2, 2), dtype=int32, numpy=\n",
       "array([[10,  7],\n",
       "       [ 7, 10]])>"
      ]
     },
     "execution_count": 10,
     "metadata": {},
     "output_type": "execute_result"
    }
   ],
   "source": [
    "# Create a matrix (more than 1 dimension)\n",
    "matrix = tf.constant([[10, 7],\n",
    "                      [7, 10]])\n",
    "matrix"
   ]
  },
  {
   "cell_type": "code",
   "execution_count": 11,
   "id": "69935b90",
   "metadata": {},
   "outputs": [
    {
     "data": {
      "text/plain": [
       "2"
      ]
     },
     "execution_count": 11,
     "metadata": {},
     "output_type": "execute_result"
    }
   ],
   "source": [
    "matrix.ndim"
   ]
  },
  {
   "cell_type": "code",
   "execution_count": 12,
   "id": "655ca659",
   "metadata": {},
   "outputs": [
    {
     "data": {
      "text/plain": [
       "<tf.Tensor: shape=(2, 3), dtype=float16, numpy=\n",
       "array([[1., 2., 3.],\n",
       "       [4., 5., 6.]], dtype=float16)>"
      ]
     },
     "execution_count": 12,
     "metadata": {},
     "output_type": "execute_result"
    }
   ],
   "source": [
    "# creating matrix and defining data type using dtype\n",
    "matrix = tf.constant([[1,2,3],\n",
    "                     [4,5,6]], dtype=tf.float16)\n",
    "matrix"
   ]
  },
  {
   "cell_type": "code",
   "execution_count": 13,
   "id": "838abb4d",
   "metadata": {},
   "outputs": [
    {
     "data": {
      "text/plain": [
       "2"
      ]
     },
     "execution_count": 13,
     "metadata": {},
     "output_type": "execute_result"
    }
   ],
   "source": [
    "matrix.ndim"
   ]
  },
  {
   "cell_type": "code",
   "execution_count": 14,
   "id": "ed23ade9",
   "metadata": {},
   "outputs": [
    {
     "data": {
      "text/plain": [
       "<tf.Tensor: shape=(3, 2, 3), dtype=int32, numpy=\n",
       "array([[[ 1,  2,  3],\n",
       "        [ 4,  5,  6]],\n",
       "\n",
       "       [[ 7,  8,  9],\n",
       "        [10, 11, 12]],\n",
       "\n",
       "       [[13, 14, 15],\n",
       "        [16, 17, 18]]])>"
      ]
     },
     "execution_count": 14,
     "metadata": {},
     "output_type": "execute_result"
    }
   ],
   "source": [
    "# (more than 2 dimensions, although, all of the above items are also technically tensors)\n",
    "tensor = tf.constant([[[1, 2, 3],\n",
    "                       [4, 5, 6]],\n",
    "                      [[7, 8, 9],\n",
    "                       [10, 11, 12]],\n",
    "                      [[13, 14, 15],\n",
    "                       [16, 17, 18]]])\n",
    "tensor"
   ]
  },
  {
   "cell_type": "code",
   "execution_count": 15,
   "id": "703b01d4",
   "metadata": {},
   "outputs": [
    {
     "data": {
      "text/plain": [
       "3"
      ]
     },
     "execution_count": 15,
     "metadata": {},
     "output_type": "execute_result"
    }
   ],
   "source": [
    "tensor.ndim"
   ]
  },
  {
   "cell_type": "markdown",
   "id": "e0139279",
   "metadata": {},
   "source": [
    "#### Creating Tensors with tf.Variable()<br>"
   ]
  },
  {
   "cell_type": "markdown",
   "id": "30fd50db",
   "metadata": {},
   "source": [
    "he difference between tf.Variable() and tf.constant() is tensors created with tf.constant() are immutable "
   ]
  },
  {
   "cell_type": "code",
   "execution_count": 17,
   "id": "a40b646f",
   "metadata": {},
   "outputs": [
    {
     "data": {
      "text/plain": [
       "(<tf.Variable 'Variable:0' shape=(2,) dtype=int32, numpy=array([10,  7])>,\n",
       " <tf.Tensor: shape=(2,), dtype=int32, numpy=array([10,  7])>)"
      ]
     },
     "execution_count": 17,
     "metadata": {},
     "output_type": "execute_result"
    }
   ],
   "source": [
    "change_tensor = tf.Variable([10, 7])\n",
    "unchange_tensor = tf.constant([10, 7])\n",
    "change_tensor, unchange_tensor"
   ]
  },
  {
   "cell_type": "code",
   "execution_count": 24,
   "id": "96a90f12",
   "metadata": {},
   "outputs": [
    {
     "data": {
      "text/plain": [
       "<tf.Variable 'UnreadVariable' shape=(2,) dtype=int32, numpy=array([7, 7])>"
      ]
     },
     "execution_count": 24,
     "metadata": {},
     "output_type": "execute_result"
    }
   ],
   "source": [
    "# change_tensor[0] = 7 # error\n",
    "change_tensor[0].assign(7)"
   ]
  },
  {
   "cell_type": "markdown",
   "id": "ee933b52",
   "metadata": {},
   "source": [
    "We can here see that the value in change_tensor changed numpy=array([7, 7]"
   ]
  },
  {
   "cell_type": "markdown",
   "id": "2af5c75c",
   "metadata": {},
   "source": [
    "#### We can create random tensors by using the tf.random.Generator class."
   ]
  },
  {
   "cell_type": "code",
   "execution_count": 26,
   "id": "e849e453",
   "metadata": {},
   "outputs": [],
   "source": [
    "# Here from_seed(42) values are same so the two random values will be same\n",
    "random_1 = tf.random.Generator.from_seed(42)\n",
    "random_1 = random_1.normal(shape=(3, 2))\n",
    "random_2 = tf.random.Generator.from_seed(42)\n",
    "random_2 = random_2.normal(shape=(3, 2))"
   ]
  },
  {
   "cell_type": "code",
   "execution_count": 27,
   "id": "9ba0f697",
   "metadata": {},
   "outputs": [
    {
     "data": {
      "text/plain": [
       "(<tf.Tensor: shape=(3, 2), dtype=float32, numpy=\n",
       " array([[-0.7565803 , -0.06854702],\n",
       "        [ 0.07595026, -1.2573844 ],\n",
       "        [-0.23193765, -1.8107855 ]], dtype=float32)>,\n",
       " <tf.Tensor: shape=(3, 2), dtype=float32, numpy=\n",
       " array([[-0.7565803 , -0.06854702],\n",
       "        [ 0.07595026, -1.2573844 ],\n",
       "        [-0.23193765, -1.8107855 ]], dtype=float32)>,\n",
       " <tf.Tensor: shape=(3, 2), dtype=bool, numpy=\n",
       " array([[ True,  True],\n",
       "        [ True,  True],\n",
       "        [ True,  True]])>)"
      ]
     },
     "execution_count": 27,
     "metadata": {},
     "output_type": "execute_result"
    }
   ],
   "source": [
    "random_1, random_2, random_1 == random_2"
   ]
  },
  {
   "cell_type": "code",
   "execution_count": 31,
   "id": "27f6d0e1",
   "metadata": {},
   "outputs": [],
   "source": [
    "random_3 = tf.random.Generator.from_seed(42)\n",
    "random_3 = random_3.normal(shape=(3, 2))\n",
    "random_4 = tf.random.Generator.from_seed(11)\n",
    "random_4 = random_4.normal(shape=(3, 2))"
   ]
  },
  {
   "cell_type": "code",
   "execution_count": 29,
   "id": "61b6f76c",
   "metadata": {},
   "outputs": [
    {
     "data": {
      "text/plain": [
       "(<tf.Tensor: shape=(3, 2), dtype=float32, numpy=\n",
       " array([[-0.7565803 , -0.06854702],\n",
       "        [ 0.07595026, -1.2573844 ],\n",
       "        [-0.23193765, -1.8107855 ]], dtype=float32)>,\n",
       " <tf.Tensor: shape=(3, 2), dtype=float32, numpy=\n",
       " array([[ 0.2730574 , -0.29925638],\n",
       "        [-0.3652325 ,  0.61883307],\n",
       "        [-1.0130816 ,  0.2829171 ]], dtype=float32)>,\n",
       " <tf.Tensor: shape=(3, 2), dtype=bool, numpy=\n",
       " array([[ True,  True],\n",
       "        [ True,  True],\n",
       "        [ True,  True]])>,\n",
       " <tf.Tensor: shape=(3, 2), dtype=bool, numpy=\n",
       " array([[False, False],\n",
       "        [False, False],\n",
       "        [False, False]])>)"
      ]
     },
     "execution_count": 29,
     "metadata": {},
     "output_type": "execute_result"
    }
   ],
   "source": [
    "random_3, random_4, random_1 == random_3, random_3 == random_4"
   ]
  },
  {
   "cell_type": "markdown",
   "id": "8eb01fa1",
   "metadata": {},
   "source": [
    "### Shuffle a tensor (valuable for when you want to shuffle your data)"
   ]
  },
  {
   "cell_type": "code",
   "execution_count": 32,
   "id": "43bd7a0a",
   "metadata": {},
   "outputs": [],
   "source": [
    "not_shuffled = tf.constant([[10, 7],\n",
    "                            [3, 4],\n",
    "                            [2, 5]])"
   ]
  },
  {
   "cell_type": "code",
   "execution_count": 46,
   "id": "89d7ea62",
   "metadata": {},
   "outputs": [
    {
     "data": {
      "text/plain": [
       "<tf.Tensor: shape=(3, 2), dtype=int32, numpy=\n",
       "array([[ 2,  5],\n",
       "       [10,  7],\n",
       "       [ 3,  4]])>"
      ]
     },
     "execution_count": 46,
     "metadata": {},
     "output_type": "execute_result"
    }
   ],
   "source": [
    "tf.random.shuffle(not_shuffled, seed=42)"
   ]
  },
  {
   "cell_type": "markdown",
   "id": "77649ce7",
   "metadata": {},
   "source": [
    "!!! IMP Here we can see the seed value is 42 but in every code run it changes so, to prevent this we need to use global seed"
   ]
  },
  {
   "cell_type": "code",
   "execution_count": 53,
   "id": "4c409014",
   "metadata": {},
   "outputs": [
    {
     "data": {
      "text/plain": [
       "<tf.Tensor: shape=(3, 2), dtype=int32, numpy=\n",
       "array([[10,  7],\n",
       "       [ 3,  4],\n",
       "       [ 2,  5]])>"
      ]
     },
     "execution_count": 53,
     "metadata": {},
     "output_type": "execute_result"
    }
   ],
   "source": [
    "tf.random.set_seed(42)\n",
    "tf.random.shuffle(not_shuffled, seed=42) # Here local seed is not necessary"
   ]
  },
  {
   "cell_type": "code",
   "execution_count": 54,
   "id": "78c3e36f",
   "metadata": {},
   "outputs": [
    {
     "data": {
      "text/plain": [
       "<tf.Tensor: shape=(3, 2), dtype=int32, numpy=\n",
       "array([[ 3,  4],\n",
       "       [ 2,  5],\n",
       "       [10,  7]])>"
      ]
     },
     "execution_count": 54,
     "metadata": {},
     "output_type": "execute_result"
    }
   ],
   "source": [
    "tf.random.set_seed(42)\n",
    "tf.random.shuffle(not_shuffled)"
   ]
  },
  {
   "cell_type": "markdown",
   "id": "c8171101",
   "metadata": {},
   "source": [
    "### Other ways to make tensors"
   ]
  },
  {
   "cell_type": "code",
   "execution_count": 57,
   "id": "03a4c780",
   "metadata": {},
   "outputs": [
    {
     "data": {
      "text/plain": [
       "<tf.Tensor: shape=(3, 2), dtype=float32, numpy=\n",
       "array([[1., 1.],\n",
       "       [1., 1.],\n",
       "       [1., 1.]], dtype=float32)>"
      ]
     },
     "execution_count": 57,
     "metadata": {},
     "output_type": "execute_result"
    }
   ],
   "source": [
    "tf.ones((3,2))"
   ]
  },
  {
   "cell_type": "code",
   "execution_count": 58,
   "id": "1aec304c",
   "metadata": {},
   "outputs": [
    {
     "data": {
      "text/plain": [
       "<tf.Tensor: shape=(3, 2), dtype=float32, numpy=\n",
       "array([[1., 1.],\n",
       "       [1., 1.],\n",
       "       [1., 1.]], dtype=float32)>"
      ]
     },
     "execution_count": 58,
     "metadata": {},
     "output_type": "execute_result"
    }
   ],
   "source": [
    "tf.ones(shape=(3,2))"
   ]
  },
  {
   "cell_type": "code",
   "execution_count": null,
   "id": "bd939254",
   "metadata": {},
   "outputs": [],
   "source": []
  },
  {
   "cell_type": "code",
   "execution_count": 59,
   "id": "7cca78d8",
   "metadata": {},
   "outputs": [
    {
     "data": {
      "text/plain": [
       "<tf.Tensor: shape=(3, 2), dtype=float32, numpy=\n",
       "array([[0., 0.],\n",
       "       [0., 0.],\n",
       "       [0., 0.]], dtype=float32)>"
      ]
     },
     "execution_count": 59,
     "metadata": {},
     "output_type": "execute_result"
    }
   ],
   "source": [
    "tf.zeros((3,2))"
   ]
  },
  {
   "cell_type": "code",
   "execution_count": 60,
   "id": "fd09884e",
   "metadata": {},
   "outputs": [
    {
     "data": {
      "text/plain": [
       "<tf.Tensor: shape=(3, 2), dtype=float32, numpy=\n",
       "array([[0., 0.],\n",
       "       [0., 0.],\n",
       "       [0., 0.]], dtype=float32)>"
      ]
     },
     "execution_count": 60,
     "metadata": {},
     "output_type": "execute_result"
    }
   ],
   "source": [
    "tf.zeros(shape=(3,2))"
   ]
  },
  {
   "cell_type": "markdown",
   "id": "09706411",
   "metadata": {},
   "source": [
    "# You can also turn NumPy arrays in into tensors.<br>\n",
    "\n",
    "Remember, the main difference between tensors and NumPy arrays is that tensors can be run on GPUs."
   ]
  },
  {
   "cell_type": "code",
   "execution_count": 67,
   "id": "fafda83b",
   "metadata": {},
   "outputs": [
    {
     "data": {
      "text/plain": [
       "dtype('int32')"
      ]
     },
     "execution_count": 67,
     "metadata": {},
     "output_type": "execute_result"
    }
   ],
   "source": [
    "import numpy as np\n",
    "arr = np.arange(1, 25, dtype=np.int32)\n",
    "arr.dtype"
   ]
  },
  {
   "cell_type": "code",
   "execution_count": 68,
   "id": "10633087",
   "metadata": {},
   "outputs": [
    {
     "data": {
      "text/plain": [
       "array([ 1,  2,  3,  4,  5,  6,  7,  8,  9, 10, 11, 12, 13, 14, 15, 16, 17,\n",
       "       18, 19, 20, 21, 22, 23, 24])"
      ]
     },
     "execution_count": 68,
     "metadata": {},
     "output_type": "execute_result"
    }
   ],
   "source": [
    "arr"
   ]
  },
  {
   "cell_type": "code",
   "execution_count": 72,
   "id": "262b59c3",
   "metadata": {},
   "outputs": [
    {
     "data": {
      "text/plain": [
       "<tf.Tensor: shape=(2, 4, 3), dtype=int32, numpy=\n",
       "array([[[ 1,  2,  3],\n",
       "        [ 4,  5,  6],\n",
       "        [ 7,  8,  9],\n",
       "        [10, 11, 12]],\n",
       "\n",
       "       [[13, 14, 15],\n",
       "        [16, 17, 18],\n",
       "        [19, 20, 21],\n",
       "        [22, 23, 24]]])>"
      ]
     },
     "execution_count": 72,
     "metadata": {},
     "output_type": "execute_result"
    }
   ],
   "source": [
    "tensor = tf.constant(arr, shape=[2, 4, 3])\n",
    "tensor"
   ]
  },
  {
   "cell_type": "markdown",
   "id": "3896b948",
   "metadata": {},
   "source": [
    "# reshape tensor"
   ]
  },
  {
   "cell_type": "code",
   "execution_count": 75,
   "id": "31437417",
   "metadata": {},
   "outputs": [
    {
     "data": {
      "text/plain": [
       "<tf.Tensor: shape=(6, 4), dtype=int32, numpy=\n",
       "array([[ 1,  2,  3,  4],\n",
       "       [ 5,  6,  7,  8],\n",
       "       [ 9, 10, 11, 12],\n",
       "       [13, 14, 15, 16],\n",
       "       [17, 18, 19, 20],\n",
       "       [21, 22, 23, 24]])>"
      ]
     },
     "execution_count": 75,
     "metadata": {},
     "output_type": "execute_result"
    }
   ],
   "source": [
    "tf.reshape(tensor, (6, 4))"
   ]
  },
  {
   "cell_type": "markdown",
   "id": "059504ee",
   "metadata": {},
   "source": [
    "# Getting information from tensors (shape, rank, size)<br>\n",
    "<b>Shape:</b> The length (number of elements) of each of the dimensions of a tensor.<br>\n",
    "<b>Rank:</b> The number of tensor dimensions. A scalar has rank 0, a vector has rank 1, a matrix is rank 2, a tensor has rank n<br>\n",
    "<b>Axis or Dimension:</b> A particular dimension of a tensor.<br>\n",
    "<b>Size:</b> The total number of items in the tensor.<br>"
   ]
  },
  {
   "cell_type": "code",
   "execution_count": 76,
   "id": "8efd7d12",
   "metadata": {},
   "outputs": [
    {
     "data": {
      "text/plain": [
       "<tf.Tensor: shape=(2, 3, 4, 5), dtype=float32, numpy=\n",
       "array([[[[0., 0., 0., 0., 0.],\n",
       "         [0., 0., 0., 0., 0.],\n",
       "         [0., 0., 0., 0., 0.],\n",
       "         [0., 0., 0., 0., 0.]],\n",
       "\n",
       "        [[0., 0., 0., 0., 0.],\n",
       "         [0., 0., 0., 0., 0.],\n",
       "         [0., 0., 0., 0., 0.],\n",
       "         [0., 0., 0., 0., 0.]],\n",
       "\n",
       "        [[0., 0., 0., 0., 0.],\n",
       "         [0., 0., 0., 0., 0.],\n",
       "         [0., 0., 0., 0., 0.],\n",
       "         [0., 0., 0., 0., 0.]]],\n",
       "\n",
       "\n",
       "       [[[0., 0., 0., 0., 0.],\n",
       "         [0., 0., 0., 0., 0.],\n",
       "         [0., 0., 0., 0., 0.],\n",
       "         [0., 0., 0., 0., 0.]],\n",
       "\n",
       "        [[0., 0., 0., 0., 0.],\n",
       "         [0., 0., 0., 0., 0.],\n",
       "         [0., 0., 0., 0., 0.],\n",
       "         [0., 0., 0., 0., 0.]],\n",
       "\n",
       "        [[0., 0., 0., 0., 0.],\n",
       "         [0., 0., 0., 0., 0.],\n",
       "         [0., 0., 0., 0., 0.],\n",
       "         [0., 0., 0., 0., 0.]]]], dtype=float32)>"
      ]
     },
     "execution_count": 76,
     "metadata": {},
     "output_type": "execute_result"
    }
   ],
   "source": [
    "# Create a rank 4 tensor (4 dimensions)\n",
    "rank_4_tensor = tf.zeros([2, 3, 4, 5])\n",
    "rank_4_tensor"
   ]
  },
  {
   "cell_type": "code",
   "execution_count": 77,
   "id": "597e2d11",
   "metadata": {},
   "outputs": [
    {
     "data": {
      "text/plain": [
       "(TensorShape([2, 3, 4, 5]), 4, <tf.Tensor: shape=(), dtype=int32, numpy=120>)"
      ]
     },
     "execution_count": 77,
     "metadata": {},
     "output_type": "execute_result"
    }
   ],
   "source": [
    "rank_4_tensor.shape"
   ]
  },
  {
   "cell_type": "code",
   "execution_count": 78,
   "id": "cb3528e1",
   "metadata": {},
   "outputs": [
    {
     "data": {
      "text/plain": [
       "4"
      ]
     },
     "execution_count": 78,
     "metadata": {},
     "output_type": "execute_result"
    }
   ],
   "source": [
    "rank_4_tensor.ndim"
   ]
  },
  {
   "cell_type": "code",
   "execution_count": 82,
   "id": "57ba2523",
   "metadata": {},
   "outputs": [
    {
     "data": {
      "text/plain": [
       "120"
      ]
     },
     "execution_count": 82,
     "metadata": {},
     "output_type": "execute_result"
    }
   ],
   "source": [
    "tf.size(rank_4_tensor).numpy() "
   ]
  },
  {
   "cell_type": "code",
   "execution_count": 83,
   "id": "2f600495",
   "metadata": {},
   "outputs": [
    {
     "name": "stdout",
     "output_type": "stream",
     "text": [
      "Datatype of every element: <dtype: 'float32'>\n",
      "Number of dimensions (rank): 4\n",
      "Shape of tensor: (2, 3, 4, 5)\n",
      "Elements along axis 0 of tensor: 2\n",
      "Elements along last axis of tensor: 5\n",
      "Total number of elements (2*3*4*5): 120\n"
     ]
    }
   ],
   "source": [
    "print(\"Datatype of every element:\", rank_4_tensor.dtype)\n",
    "print(\"Number of dimensions (rank):\", rank_4_tensor.ndim)\n",
    "print(\"Shape of tensor:\", rank_4_tensor.shape)\n",
    "print(\"Elements along axis 0 of tensor:\", rank_4_tensor.shape[0])\n",
    "print(\"Elements along last axis of tensor:\", rank_4_tensor.shape[-1])\n",
    "print(\"Total number of elements (2*3*4*5):\", tf.size(rank_4_tensor).numpy()) # .numpy() converts to NumPy array"
   ]
  },
  {
   "cell_type": "code",
   "execution_count": 84,
   "id": "f6602ed7",
   "metadata": {},
   "outputs": [
    {
     "data": {
      "text/plain": [
       "<tf.Tensor: shape=(2, 2, 2, 2), dtype=float32, numpy=\n",
       "array([[[[0., 0.],\n",
       "         [0., 0.]],\n",
       "\n",
       "        [[0., 0.],\n",
       "         [0., 0.]]],\n",
       "\n",
       "\n",
       "       [[[0., 0.],\n",
       "         [0., 0.]],\n",
       "\n",
       "        [[0., 0.],\n",
       "         [0., 0.]]]], dtype=float32)>"
      ]
     },
     "execution_count": 84,
     "metadata": {},
     "output_type": "execute_result"
    }
   ],
   "source": [
    "# Get the first 2 items of each dimension\n",
    "rank_4_tensor[:2, :2, :2, :2]"
   ]
  },
  {
   "cell_type": "code",
   "execution_count": 85,
   "id": "772e1ab9",
   "metadata": {},
   "outputs": [
    {
     "data": {
      "text/plain": [
       "<tf.Tensor: shape=(1, 1, 1, 5), dtype=float32, numpy=array([[[[0., 0., 0., 0., 0.]]]], dtype=float32)>"
      ]
     },
     "execution_count": 85,
     "metadata": {},
     "output_type": "execute_result"
    }
   ],
   "source": [
    "# Get the dimension from each index except for the final one\n",
    "rank_4_tensor[:1, :1, :1, :]"
   ]
  },
  {
   "cell_type": "code",
   "execution_count": 86,
   "id": "729fae8c",
   "metadata": {},
   "outputs": [
    {
     "data": {
      "text/plain": [
       "<tf.Tensor: shape=(1, 1, 4, 1), dtype=float32, numpy=\n",
       "array([[[[0.],\n",
       "         [0.],\n",
       "         [0.],\n",
       "         [0.]]]], dtype=float32)>"
      ]
     },
     "execution_count": 86,
     "metadata": {},
     "output_type": "execute_result"
    }
   ],
   "source": [
    "rank_4_tensor[:1, :1, :, :1]"
   ]
  },
  {
   "cell_type": "code",
   "execution_count": 95,
   "id": "a523b194",
   "metadata": {},
   "outputs": [
    {
     "data": {
      "text/plain": [
       "<tf.Tensor: shape=(1, 3, 1, 1), dtype=float32, numpy=\n",
       "array([[[[0.]],\n",
       "\n",
       "        [[0.]],\n",
       "\n",
       "        [[0.]]]], dtype=float32)>"
      ]
     },
     "execution_count": 95,
     "metadata": {},
     "output_type": "execute_result"
    }
   ],
   "source": [
    "rank_4_tensor[:1, :, :1, :1]"
   ]
  },
  {
   "cell_type": "code",
   "execution_count": 96,
   "id": "50f98483",
   "metadata": {},
   "outputs": [
    {
     "data": {
      "text/plain": [
       "<tf.Tensor: shape=(2, 1, 1, 1), dtype=float32, numpy=\n",
       "array([[[[0.]]],\n",
       "\n",
       "\n",
       "       [[[0.]]]], dtype=float32)>"
      ]
     },
     "execution_count": 96,
     "metadata": {},
     "output_type": "execute_result"
    }
   ],
   "source": [
    "rank_4_tensor[:, :1, :1, :1]"
   ]
  },
  {
   "cell_type": "code",
   "execution_count": 97,
   "id": "90bf08d0",
   "metadata": {},
   "outputs": [
    {
     "data": {
      "text/plain": [
       "<tf.Tensor: shape=(2,), dtype=int32, numpy=array([7, 4])>"
      ]
     },
     "execution_count": 97,
     "metadata": {},
     "output_type": "execute_result"
    }
   ],
   "source": [
    "# Create a rank 2 tensor (2 dimensions)\n",
    "rank_2_tensor = tf.constant([[10, 7],\n",
    "                             [3, 4]])\n",
    "\n",
    "# Get the last item of each row\n",
    "rank_2_tensor[:, -1]"
   ]
  },
  {
   "cell_type": "markdown",
   "id": "361d106e",
   "metadata": {},
   "source": [
    "#### You can also add dimensions to your tensor whilst keeping the same information present using tf.newaxis"
   ]
  },
  {
   "cell_type": "code",
   "execution_count": 99,
   "id": "6117f34f",
   "metadata": {},
   "outputs": [
    {
     "data": {
      "text/plain": [
       "<tf.Tensor: shape=(2, 2), dtype=int32, numpy=\n",
       "array([[10,  7],\n",
       "       [ 3,  4]])>"
      ]
     },
     "execution_count": 99,
     "metadata": {},
     "output_type": "execute_result"
    }
   ],
   "source": [
    "# Add an extra dimension (to the end)\n",
    "rank_3_tensor = rank_2_tensor[..., tf.newaxis]\n",
    "rank_2_tensor"
   ]
  },
  {
   "cell_type": "code",
   "execution_count": 100,
   "id": "e2b05983",
   "metadata": {},
   "outputs": [
    {
     "data": {
      "text/plain": [
       "<tf.Tensor: shape=(2, 2, 1), dtype=int32, numpy=\n",
       "array([[[10],\n",
       "        [ 7]],\n",
       "\n",
       "       [[ 3],\n",
       "        [ 4]]])>"
      ]
     },
     "execution_count": 100,
     "metadata": {},
     "output_type": "execute_result"
    }
   ],
   "source": [
    "rank_3_tensor"
   ]
  },
  {
   "cell_type": "markdown",
   "id": "d99b5d33",
   "metadata": {},
   "source": [
    "#### You can achieve the same using tf.expand_dims()"
   ]
  },
  {
   "cell_type": "code",
   "execution_count": 101,
   "id": "351b3515",
   "metadata": {},
   "outputs": [
    {
     "data": {
      "text/plain": [
       "<tf.Tensor: shape=(2, 2, 1), dtype=int32, numpy=\n",
       "array([[[10],\n",
       "        [ 7]],\n",
       "\n",
       "       [[ 3],\n",
       "        [ 4]]])>"
      ]
     },
     "execution_count": 101,
     "metadata": {},
     "output_type": "execute_result"
    }
   ],
   "source": [
    "tf.expand_dims(rank_2_tensor, axis=-1)"
   ]
  },
  {
   "cell_type": "markdown",
   "id": "2e80dbe9",
   "metadata": {},
   "source": [
    "# Manipulating tensors (tensor operations)"
   ]
  },
  {
   "cell_type": "markdown",
   "id": "bc29d13c",
   "metadata": {},
   "source": [
    "## Basic operations"
   ]
  },
  {
   "cell_type": "code",
   "execution_count": 103,
   "id": "0466f0ac",
   "metadata": {},
   "outputs": [
    {
     "data": {
      "text/plain": [
       "<tf.Tensor: shape=(2, 2), dtype=int32, numpy=\n",
       "array([[20, 17],\n",
       "       [13, 14]])>"
      ]
     },
     "execution_count": 103,
     "metadata": {},
     "output_type": "execute_result"
    }
   ],
   "source": [
    "tensor = tf.constant([[10, 7], [3, 4]])\n",
    "tensor + 10"
   ]
  },
  {
   "cell_type": "code",
   "execution_count": 104,
   "id": "6765af31",
   "metadata": {},
   "outputs": [
    {
     "data": {
      "text/plain": [
       "<tf.Tensor: shape=(2, 2), dtype=int32, numpy=\n",
       "array([[ 0, -3],\n",
       "       [-7, -6]])>"
      ]
     },
     "execution_count": 104,
     "metadata": {},
     "output_type": "execute_result"
    }
   ],
   "source": [
    "tensor - 10"
   ]
  },
  {
   "cell_type": "code",
   "execution_count": 105,
   "id": "47b19ce4",
   "metadata": {},
   "outputs": [
    {
     "data": {
      "text/plain": [
       "<tf.Tensor: shape=(2, 2), dtype=int32, numpy=\n",
       "array([[100,  70],\n",
       "       [ 30,  40]])>"
      ]
     },
     "execution_count": 105,
     "metadata": {},
     "output_type": "execute_result"
    }
   ],
   "source": [
    "tensor * 10"
   ]
  },
  {
   "cell_type": "code",
   "execution_count": 106,
   "id": "b1c31ba9",
   "metadata": {},
   "outputs": [
    {
     "data": {
      "text/plain": [
       "<tf.Tensor: shape=(2, 2), dtype=float64, numpy=\n",
       "array([[1. , 0.7],\n",
       "       [0.3, 0.4]])>"
      ]
     },
     "execution_count": 106,
     "metadata": {},
     "output_type": "execute_result"
    }
   ],
   "source": [
    "tensor / 10"
   ]
  },
  {
   "cell_type": "code",
   "execution_count": 107,
   "id": "42971a3d",
   "metadata": {},
   "outputs": [
    {
     "data": {
      "text/plain": [
       "<tf.Tensor: shape=(2, 2), dtype=int32, numpy=\n",
       "array([[1, 0],\n",
       "       [0, 0]])>"
      ]
     },
     "execution_count": 107,
     "metadata": {},
     "output_type": "execute_result"
    }
   ],
   "source": [
    "tensor // 10"
   ]
  },
  {
   "cell_type": "code",
   "execution_count": 108,
   "id": "88f2a84b",
   "metadata": {},
   "outputs": [
    {
     "data": {
      "text/plain": [
       "<tf.Tensor: shape=(2, 2), dtype=int32, numpy=\n",
       "array([[1410065408,  282475249],\n",
       "       [     59049,    1048576]])>"
      ]
     },
     "execution_count": 108,
     "metadata": {},
     "output_type": "execute_result"
    }
   ],
   "source": [
    "tensor ** 10"
   ]
  },
  {
   "cell_type": "markdown",
   "id": "8118db6a",
   "metadata": {},
   "source": [
    "##### Using tensorflow functions"
   ]
  },
  {
   "cell_type": "code",
   "execution_count": 109,
   "id": "6c4771b9",
   "metadata": {},
   "outputs": [
    {
     "data": {
      "text/plain": [
       "<tf.Tensor: shape=(2, 2), dtype=int32, numpy=\n",
       "array([[100,  70],\n",
       "       [ 30,  40]])>"
      ]
     },
     "execution_count": 109,
     "metadata": {},
     "output_type": "execute_result"
    }
   ],
   "source": [
    "tf.multiply(tensor, 10)"
   ]
  },
  {
   "cell_type": "code",
   "execution_count": 110,
   "id": "effcb9f4",
   "metadata": {},
   "outputs": [
    {
     "data": {
      "text/plain": [
       "<tf.Tensor: shape=(2, 2), dtype=int32, numpy=\n",
       "array([[20, 17],\n",
       "       [13, 14]])>"
      ]
     },
     "execution_count": 110,
     "metadata": {},
     "output_type": "execute_result"
    }
   ],
   "source": [
    "tf.add(tensor, 10)"
   ]
  },
  {
   "cell_type": "code",
   "execution_count": 115,
   "id": "bcf30d7f",
   "metadata": {},
   "outputs": [
    {
     "data": {
      "text/plain": [
       "<tf.Tensor: shape=(2, 2), dtype=float64, numpy=\n",
       "array([[1. , 0.7],\n",
       "       [0.3, 0.4]])>"
      ]
     },
     "execution_count": 115,
     "metadata": {},
     "output_type": "execute_result"
    }
   ],
   "source": [
    "tf.divide(tensor, 10)"
   ]
  },
  {
   "cell_type": "markdown",
   "id": "f074aed8",
   "metadata": {},
   "source": [
    "# Matrix mutliplication"
   ]
  },
  {
   "cell_type": "markdown",
   "id": "88be7564",
   "metadata": {},
   "source": [
    "1) The inner dimensions must match:"
   ]
  },
  {
   "cell_type": "markdown",
   "id": "fccb1767",
   "metadata": {},
   "source": [
    "(3, 5) @ (3, 5) won't work<br>\n",
    "(5, 3) @ (3, 5) will work<br>\n",
    "(3, 5) @ (5, 3) will work<br>"
   ]
  },
  {
   "cell_type": "markdown",
   "id": "761b09af",
   "metadata": {},
   "source": [
    "2) The resulting matrix has the shape of the outer dimensions:"
   ]
  },
  {
   "cell_type": "markdown",
   "id": "28a4cf8e",
   "metadata": {},
   "source": [
    "(5, 3) @ (3, 5) -> (5, 5)<br>\n",
    "(3, 5) @ (5, 3) -> (3, 3)"
   ]
  },
  {
   "cell_type": "code",
   "execution_count": 119,
   "id": "bcadbf3c",
   "metadata": {},
   "outputs": [
    {
     "name": "stdout",
     "output_type": "stream",
     "text": [
      "tf.Tensor(\n",
      "[[10  7]\n",
      " [ 3  4]], shape=(2, 2), dtype=int32)\n"
     ]
    }
   ],
   "source": [
    "print(tensor)"
   ]
  },
  {
   "cell_type": "code",
   "execution_count": 120,
   "id": "1782cf47",
   "metadata": {},
   "outputs": [
    {
     "data": {
      "text/plain": [
       "<tf.Tensor: shape=(2, 2), dtype=int32, numpy=\n",
       "array([[121,  98],\n",
       "       [ 42,  37]])>"
      ]
     },
     "execution_count": 120,
     "metadata": {},
     "output_type": "execute_result"
    }
   ],
   "source": [
    "tf.matmul(tensor, tensor)"
   ]
  },
  {
   "cell_type": "code",
   "execution_count": 121,
   "id": "66ee88e9",
   "metadata": {},
   "outputs": [
    {
     "data": {
      "text/plain": [
       "<tf.Tensor: shape=(2, 2), dtype=int32, numpy=\n",
       "array([[121,  98],\n",
       "       [ 42,  37]])>"
      ]
     },
     "execution_count": 121,
     "metadata": {},
     "output_type": "execute_result"
    }
   ],
   "source": [
    "tensor @ tensor"
   ]
  },
  {
   "cell_type": "code",
   "execution_count": 122,
   "id": "4dfac31c",
   "metadata": {},
   "outputs": [],
   "source": [
    "# Create (3, 2) tensor\n",
    "X = tf.constant([[1, 2],\n",
    "                 [3, 4],\n",
    "                 [5, 6]])"
   ]
  },
  {
   "cell_type": "code",
   "execution_count": 123,
   "id": "3812fcb2",
   "metadata": {},
   "outputs": [
    {
     "data": {
      "text/plain": [
       "(<tf.Tensor: shape=(3, 2), dtype=int32, numpy=\n",
       " array([[1, 2],\n",
       "        [3, 4],\n",
       "        [5, 6]])>,\n",
       " <tf.Tensor: shape=(3, 2), dtype=int32, numpy=\n",
       " array([[ 7,  8],\n",
       "        [ 9, 10],\n",
       "        [11, 12]])>)"
      ]
     },
     "execution_count": 123,
     "metadata": {},
     "output_type": "execute_result"
    }
   ],
   "source": [
    "# Create another (3, 2) tensor\n",
    "Y = tf.constant([[7, 8],\n",
    "                 [9, 10],\n",
    "                 [11, 12]])\n",
    "X, Y"
   ]
  },
  {
   "cell_type": "code",
   "execution_count": null,
   "id": "5e8af08a",
   "metadata": {},
   "outputs": [],
   "source": [
    "X @ Y # error so need to change the shape"
   ]
  },
  {
   "cell_type": "code",
   "execution_count": 127,
   "id": "83732a9b",
   "metadata": {},
   "outputs": [
    {
     "data": {
      "text/plain": [
       "<tf.Tensor: shape=(2, 3), dtype=int32, numpy=\n",
       "array([[ 7,  8,  9],\n",
       "       [10, 11, 12]])>"
      ]
     },
     "execution_count": 127,
     "metadata": {},
     "output_type": "execute_result"
    }
   ],
   "source": [
    "tf.reshape(Y, shape=(2, 3))"
   ]
  },
  {
   "cell_type": "code",
   "execution_count": 130,
   "id": "b00fb3c7",
   "metadata": {},
   "outputs": [
    {
     "data": {
      "text/plain": [
       "<tf.Tensor: shape=(3, 3), dtype=int32, numpy=\n",
       "array([[ 27,  30,  33],\n",
       "       [ 61,  68,  75],\n",
       "       [ 95, 106, 117]])>"
      ]
     },
     "execution_count": 130,
     "metadata": {},
     "output_type": "execute_result"
    }
   ],
   "source": [
    "X @ tf.reshape(Y, shape=(2, 3))"
   ]
  },
  {
   "cell_type": "markdown",
   "id": "3fb859c0",
   "metadata": {},
   "source": [
    "# Transpose of a matrix "
   ]
  },
  {
   "cell_type": "code",
   "execution_count": 131,
   "id": "3776902b",
   "metadata": {},
   "outputs": [
    {
     "data": {
      "text/plain": [
       "<tf.Tensor: shape=(2, 3), dtype=int32, numpy=\n",
       "array([[1, 3, 5],\n",
       "       [2, 4, 6]])>"
      ]
     },
     "execution_count": 131,
     "metadata": {},
     "output_type": "execute_result"
    }
   ],
   "source": [
    "tf.transpose(X)"
   ]
  },
  {
   "cell_type": "code",
   "execution_count": 132,
   "id": "a97c23c3",
   "metadata": {},
   "outputs": [
    {
     "data": {
      "text/plain": [
       "<tf.Tensor: shape=(2, 2), dtype=int32, numpy=\n",
       "array([[ 89,  98],\n",
       "       [116, 128]])>"
      ]
     },
     "execution_count": 132,
     "metadata": {},
     "output_type": "execute_result"
    }
   ],
   "source": [
    "# Try matrix multiplication \n",
    "tf.matmul(tf.transpose(X), Y)"
   ]
  },
  {
   "cell_type": "markdown",
   "id": "7af5fad1",
   "metadata": {},
   "source": [
    "(3, 2) @ (2, 3) -> (3, 3) The output is based on outer layer this eg (3, 3)<br>\n",
    "(2, 3) @ (3, 2) -> (2, 2) Here (2, 2)"
   ]
  },
  {
   "cell_type": "markdown",
   "id": "0cf25216",
   "metadata": {},
   "source": [
    "# The dot product<br>\n",
    "Multiplying matrices by each other is also referred to as the dot product.<br>\n",
    " perform the tf.matmul() operation using tf.tensordot()."
   ]
  },
  {
   "cell_type": "code",
   "execution_count": 133,
   "id": "c24cee08",
   "metadata": {},
   "outputs": [
    {
     "data": {
      "text/plain": [
       "<tf.Tensor: shape=(2, 2), dtype=int32, numpy=\n",
       "array([[ 89,  98],\n",
       "       [116, 128]])>"
      ]
     },
     "execution_count": 133,
     "metadata": {},
     "output_type": "execute_result"
    }
   ],
   "source": [
    "# Perform the dot product on X and Y (requires X to be transposed)\n",
    "tf.tensordot(tf.transpose(X), Y, axes=1)"
   ]
  },
  {
   "cell_type": "markdown",
   "id": "b5a58039",
   "metadata": {},
   "source": [
    "You might notice that although using both reshape and tranpose work, you get different results when using each.\n",
    "<br>\n",
    "Let's see an example, first with tf.transpose() then with tf.reshape()."
   ]
  },
  {
   "cell_type": "code",
   "execution_count": 134,
   "id": "339fa94a",
   "metadata": {},
   "outputs": [
    {
     "data": {
      "text/plain": [
       "<tf.Tensor: shape=(3, 3), dtype=int32, numpy=\n",
       "array([[ 23,  29,  35],\n",
       "       [ 53,  67,  81],\n",
       "       [ 83, 105, 127]])>"
      ]
     },
     "execution_count": 134,
     "metadata": {},
     "output_type": "execute_result"
    }
   ],
   "source": [
    "# Perform matrix multiplication between X and Y (transposed)\n",
    "tf.matmul(X, tf.transpose(Y))"
   ]
  },
  {
   "cell_type": "code",
   "execution_count": 135,
   "id": "9e8b2d3e",
   "metadata": {},
   "outputs": [
    {
     "data": {
      "text/plain": [
       "<tf.Tensor: shape=(3, 3), dtype=int32, numpy=\n",
       "array([[ 27,  30,  33],\n",
       "       [ 61,  68,  75],\n",
       "       [ 95, 106, 117]])>"
      ]
     },
     "execution_count": 135,
     "metadata": {},
     "output_type": "execute_result"
    }
   ],
   "source": [
    "# Perform matrix multiplication between X and Y (reshaped)\n",
    "tf.matmul(X, tf.reshape(Y, (2, 3)))"
   ]
  },
  {
   "cell_type": "markdown",
   "id": "995e93e8",
   "metadata": {},
   "source": [
    "tf.reshape() - change the shape of the given tensor (first) and then insert values in order they appear\n",
    "<br>\n",
    "tf.transpose() - swap the order of the axes, by default the last axis becomes the first, however the order can be changed using the perm parameter."
   ]
  },
  {
   "cell_type": "markdown",
   "id": "6619b82e",
   "metadata": {},
   "source": [
    "# Changing the datatype of a tensor. tf.cast()"
   ]
  },
  {
   "cell_type": "code",
   "execution_count": 141,
   "id": "4a9c9160",
   "metadata": {},
   "outputs": [
    {
     "data": {
      "text/plain": [
       "<tf.Tensor: shape=(2,), dtype=float16, numpy=array([10.,  5.], dtype=float16)>"
      ]
     },
     "execution_count": 141,
     "metadata": {},
     "output_type": "execute_result"
    }
   ],
   "source": [
    "t = tf.constant([10, 5], dtype=tf.float16)\n",
    "t"
   ]
  },
  {
   "cell_type": "code",
   "execution_count": 142,
   "id": "2f63164a",
   "metadata": {},
   "outputs": [
    {
     "data": {
      "text/plain": [
       "<tf.Tensor: shape=(2,), dtype=int16, numpy=array([10,  5], dtype=int16)>"
      ]
     },
     "execution_count": 142,
     "metadata": {},
     "output_type": "execute_result"
    }
   ],
   "source": [
    "T = tf.cast(t, dtype=tf.int16)\n",
    "T"
   ]
  },
  {
   "cell_type": "markdown",
   "id": "6cdebd52",
   "metadata": {},
   "source": [
    "# Getting the absolute value- cvt -ve to +ve<br>\n",
    "Sometimes you'll want the absolute values (all values are positive) of elements in your tensors.<br>\n",
    "To do so, you can use tf.abs()."
   ]
  },
  {
   "cell_type": "code",
   "execution_count": 148,
   "id": "50496320",
   "metadata": {},
   "outputs": [
    {
     "data": {
      "text/plain": [
       "<tf.Tensor: shape=(5,), dtype=int32, numpy=array([ -7, -10,  -1,  -3,  -2])>"
      ]
     },
     "execution_count": 148,
     "metadata": {},
     "output_type": "execute_result"
    }
   ],
   "source": [
    "# Create tensor with negative values\n",
    "D = tf.constant([-7, -10, -1 ,-3 , -2])\n",
    "D"
   ]
  },
  {
   "cell_type": "code",
   "execution_count": 149,
   "id": "323a62cc",
   "metadata": {},
   "outputs": [
    {
     "data": {
      "text/plain": [
       "<tf.Tensor: shape=(5,), dtype=int32, numpy=array([ 7, 10,  1,  3,  2])>"
      ]
     },
     "execution_count": 149,
     "metadata": {},
     "output_type": "execute_result"
    }
   ],
   "source": [
    "# Get the absolute values\n",
    "tf.abs(D)"
   ]
  },
  {
   "cell_type": "markdown",
   "id": "38147743",
   "metadata": {},
   "source": [
    "# Finding the min, max, mean, sum (aggregation)"
   ]
  },
  {
   "cell_type": "markdown",
   "id": "3c689b56",
   "metadata": {},
   "source": [
    "tf.reduce_min() - find the minimum value in a tensor.<br>\n",
    "tf.reduce_max() - find the maximum value in a tensor (helpful for when you want to find the highest prediction probability)<br>\n",
    "tf.reduce_mean() - find the mean of all elements in a tensor.<br>\n",
    "tf.reduce_sum() - find the sum of all elements in a tensor.<br>\n",
    "tf.reduce_std() - find the standard deviation<br>\n",
    "tf.reduce_variance() - find the variance"
   ]
  },
  {
   "cell_type": "code",
   "execution_count": 156,
   "id": "f3d13fdb",
   "metadata": {},
   "outputs": [
    {
     "data": {
      "text/plain": [
       "<tf.Tensor: shape=(50,), dtype=int32, numpy=\n",
       "array([76, 70, 60, 20, 73, 81, 53, 21, 23, 45, 72, 12, 27, 64, 68, 89, 76,\n",
       "       80, 20,  1,  8, 86, 69, 25,  0, 15, 67, 38,  6, 54, 92, 10, 49, 69,\n",
       "       76, 89,  2, 78, 88, 50,  2, 87, 19, 57, 69, 35, 17,  5, 23, 57])>"
      ]
     },
     "execution_count": 156,
     "metadata": {},
     "output_type": "execute_result"
    }
   ],
   "source": [
    "# Create a tensor with 50 random values between 0 and 100\n",
    "E = tf.constant(np.random.randint(low=0, high=100, size=50))\n",
    "E"
   ]
  },
  {
   "cell_type": "code",
   "execution_count": 157,
   "id": "8a5b8c3a",
   "metadata": {},
   "outputs": [
    {
     "data": {
      "text/plain": [
       "<tf.Tensor: shape=(), dtype=int32, numpy=0>"
      ]
     },
     "execution_count": 157,
     "metadata": {},
     "output_type": "execute_result"
    }
   ],
   "source": [
    "# Find the minimum\n",
    "tf.reduce_min(E)"
   ]
  },
  {
   "cell_type": "code",
   "execution_count": 158,
   "id": "64c76e60",
   "metadata": {},
   "outputs": [
    {
     "data": {
      "text/plain": [
       "92"
      ]
     },
     "execution_count": 158,
     "metadata": {},
     "output_type": "execute_result"
    }
   ],
   "source": [
    "# Find the max\n",
    "tf.reduce_max(E).numpy()"
   ]
  },
  {
   "cell_type": "code",
   "execution_count": 159,
   "id": "dcd4a817",
   "metadata": {},
   "outputs": [
    {
     "data": {
      "text/plain": [
       "47"
      ]
     },
     "execution_count": 159,
     "metadata": {},
     "output_type": "execute_result"
    }
   ],
   "source": [
    "# Find the mean\n",
    "tf.reduce_mean(E).numpy()"
   ]
  },
  {
   "cell_type": "code",
   "execution_count": 160,
   "id": "2b038c73",
   "metadata": {},
   "outputs": [
    {
     "data": {
      "text/plain": [
       "2373"
      ]
     },
     "execution_count": 160,
     "metadata": {},
     "output_type": "execute_result"
    }
   ],
   "source": [
    "# Find the median\n",
    "tf.reduce_sum(E).numpy()"
   ]
  },
  {
   "cell_type": "markdown",
   "id": "f0a69213",
   "metadata": {},
   "source": [
    "# Finding the positional maximum and minimum<br>\n",
    "tf.argmax() - find the position of the maximum element in a given tensor.<br>\n",
    "tf.argmin() - find the position of the minimum element in a given tensor."
   ]
  },
  {
   "cell_type": "code",
   "execution_count": 167,
   "id": "f1fa21c0",
   "metadata": {},
   "outputs": [
    {
     "data": {
      "text/plain": [
       "<tf.Tensor: shape=(50,), dtype=float64, numpy=\n",
       "array([0.00476815, 0.80716122, 0.62681883, 0.4051423 , 0.2481714 ,\n",
       "       0.13797923, 0.96582189, 0.28949156, 0.23120972, 0.22413415,\n",
       "       0.99087148, 0.3288165 , 0.93856822, 0.17468454, 0.93717196,\n",
       "       0.0444067 , 0.06165273, 0.23836195, 0.82483873, 0.88441968,\n",
       "       0.30212886, 0.56959206, 0.46979503, 0.48108279, 0.62908702,\n",
       "       0.0043571 , 0.15970031, 0.47791845, 0.96314243, 0.35234031,\n",
       "       0.63752207, 0.84637871, 0.24869719, 0.1184176 , 0.6593606 ,\n",
       "       0.87909535, 0.83411555, 0.70150855, 0.51946079, 0.99169337,\n",
       "       0.31946942, 0.95303412, 0.49573257, 0.17125984, 0.48378174,\n",
       "       0.03969493, 0.21750602, 0.51555752, 0.97004913, 0.77056456])>"
      ]
     },
     "execution_count": 167,
     "metadata": {},
     "output_type": "execute_result"
    }
   ],
   "source": [
    "# Create a tensor with 50 values between 0 and 1\n",
    "arr = tf.constant(np.random.random(50))\n",
    "arr"
   ]
  },
  {
   "cell_type": "code",
   "execution_count": 168,
   "id": "52f3cc86",
   "metadata": {},
   "outputs": [
    {
     "data": {
      "text/plain": [
       "<tf.Tensor: shape=(), dtype=int64, numpy=39>"
      ]
     },
     "execution_count": 168,
     "metadata": {},
     "output_type": "execute_result"
    }
   ],
   "source": [
    "# Find the maximum element position of arr\n",
    "tf.argmax(arr)"
   ]
  },
  {
   "cell_type": "code",
   "execution_count": 171,
   "id": "e75e62d7",
   "metadata": {},
   "outputs": [
    {
     "data": {
      "text/plain": [
       "25"
      ]
     },
     "execution_count": 171,
     "metadata": {},
     "output_type": "execute_result"
    }
   ],
   "source": [
    "# Find the minimum element position of arr\n",
    "tf.argmin(arr).numpy()"
   ]
  },
  {
   "cell_type": "code",
   "execution_count": 172,
   "id": "54a19334",
   "metadata": {},
   "outputs": [
    {
     "name": "stdout",
     "output_type": "stream",
     "text": [
      "The maximum value of arr is at position: 39\n",
      "The maximum value of arr is: 0.9916933667540858\n",
      "Using tf.argmax() to index arr, the maximum value of arr is: 0.9916933667540858\n",
      "Are the two max values the same (they should be)? True\n"
     ]
    }
   ],
   "source": [
    "# Find the maximum element position of arr\n",
    "print(f\"The maximum value of arr is at position: {tf.argmax(arr).numpy()}\") \n",
    "print(f\"The maximum value of arr is: {tf.reduce_max(arr).numpy()}\") \n",
    "print(f\"Using tf.argmax() to index arr, the maximum value of arr is: {arr[tf.argmax(arr)].numpy()}\")\n",
    "print(f\"Are the two max values the same (they should be)? {arr[tf.argmax(arr)].numpy() == tf.reduce_max(arr).numpy()}\")"
   ]
  },
  {
   "cell_type": "markdown",
   "id": "837ed46a",
   "metadata": {},
   "source": [
    "# Squeezing a tensor (removing all single dimensions)<br>\n",
    "to remove single-dimensions from a tensor (dimensions with size 1), can use tf.squeeze()."
   ]
  },
  {
   "cell_type": "code",
   "execution_count": 176,
   "id": "25d438f7",
   "metadata": {},
   "outputs": [
    {
     "data": {
      "text/plain": [
       "<tf.Tensor: shape=(1, 1, 1, 1, 50), dtype=int32, numpy=\n",
       "array([[[[[42, 83, 36, 58, 43, 67, 66, 20, 22, 46,  1, 53, 56, 10, 12,\n",
       "            8, 29,  6,  3, 71, 51, 92, 21, 22, 10, 82, 45, 69, 40, 78,\n",
       "           53, 34, 18, 45, 28, 32, 92, 62, 32, 24, 88, 43, 82,  4, 13,\n",
       "           10, 26, 31, 53, 11]]]]])>"
      ]
     },
     "execution_count": 176,
     "metadata": {},
     "output_type": "execute_result"
    }
   ],
   "source": [
    "# rank 5 (5 dimensions) tensor of 50 numbers between 0 and 100\n",
    "t = tf.constant(np.random.randint(0, 100, 50), shape=(1, 1, 1, 1, 50))\n",
    "t"
   ]
  },
  {
   "cell_type": "code",
   "execution_count": 177,
   "id": "276f262f",
   "metadata": {},
   "outputs": [
    {
     "data": {
      "text/plain": [
       "(TensorShape([1, 1, 1, 1, 50]), 5)"
      ]
     },
     "execution_count": 177,
     "metadata": {},
     "output_type": "execute_result"
    }
   ],
   "source": [
    "t.shape, t.ndim"
   ]
  },
  {
   "cell_type": "code",
   "execution_count": 180,
   "id": "5af73837",
   "metadata": {},
   "outputs": [
    {
     "data": {
      "text/plain": [
       "<tf.Tensor: shape=(50,), dtype=int32, numpy=\n",
       "array([42, 83, 36, 58, 43, 67, 66, 20, 22, 46,  1, 53, 56, 10, 12,  8, 29,\n",
       "        6,  3, 71, 51, 92, 21, 22, 10, 82, 45, 69, 40, 78, 53, 34, 18, 45,\n",
       "       28, 32, 92, 62, 32, 24, 88, 43, 82,  4, 13, 10, 26, 31, 53, 11])>"
      ]
     },
     "execution_count": 180,
     "metadata": {},
     "output_type": "execute_result"
    }
   ],
   "source": [
    "# Squeeze tensor t (remove all 1 dimensions)\n",
    "t_squeeze = tf.squeeze(t)\n",
    "t_squeeze"
   ]
  },
  {
   "cell_type": "code",
   "execution_count": 181,
   "id": "fdee723b",
   "metadata": {},
   "outputs": [
    {
     "data": {
      "text/plain": [
       "(TensorShape([50]), 1)"
      ]
     },
     "execution_count": 181,
     "metadata": {},
     "output_type": "execute_result"
    }
   ],
   "source": [
    "t_squeeze.shape, t_squeeze.ndim"
   ]
  },
  {
   "cell_type": "markdown",
   "id": "aae3a1e4",
   "metadata": {},
   "source": [
    "# One-hot encoding<br>"
   ]
  },
  {
   "cell_type": "code",
   "execution_count": 187,
   "id": "e7d522bc",
   "metadata": {},
   "outputs": [
    {
     "data": {
      "text/plain": [
       "<tf.Tensor: shape=(4, 4), dtype=float32, numpy=\n",
       "array([[1., 0., 0., 0.],\n",
       "       [0., 1., 0., 0.],\n",
       "       [0., 0., 1., 0.],\n",
       "       [0., 0., 0., 1.]], dtype=float32)>"
      ]
     },
     "execution_count": 187,
     "metadata": {},
     "output_type": "execute_result"
    }
   ],
   "source": [
    "# Create a list of indices\n",
    "some_list = [0, 1, 2, 3]\n",
    "\n",
    "# One hot encode \n",
    "tf.one_hot(some_list, depth=4)"
   ]
  },
  {
   "cell_type": "code",
   "execution_count": 188,
   "id": "01454d6f",
   "metadata": {},
   "outputs": [
    {
     "data": {
      "text/plain": [
       "<tf.Tensor: shape=(4, 6), dtype=float32, numpy=\n",
       "array([[1., 0., 0., 0., 0., 0.],\n",
       "       [0., 1., 0., 0., 0., 0.],\n",
       "       [0., 0., 1., 0., 0., 0.],\n",
       "       [0., 0., 0., 1., 0., 0.]], dtype=float32)>"
      ]
     },
     "execution_count": 188,
     "metadata": {},
     "output_type": "execute_result"
    }
   ],
   "source": [
    "# One hot encode\n",
    "tf.one_hot(some_list, depth=6)"
   ]
  },
  {
   "cell_type": "markdown",
   "id": "fdf4bb3f",
   "metadata": {},
   "source": [
    "#### We can specify on value and off value default it is 0 and 1"
   ]
  },
  {
   "cell_type": "code",
   "execution_count": 190,
   "id": "727ff596",
   "metadata": {},
   "outputs": [
    {
     "data": {
      "text/plain": [
       "<tf.Tensor: shape=(4, 4), dtype=string, numpy=\n",
       "array([[b'hello', b'tensor', b'tensor', b'tensor'],\n",
       "       [b'tensor', b'hello', b'tensor', b'tensor'],\n",
       "       [b'tensor', b'tensor', b'hello', b'tensor'],\n",
       "       [b'tensor', b'tensor', b'tensor', b'hello']], dtype=object)>"
      ]
     },
     "execution_count": 190,
     "metadata": {},
     "output_type": "execute_result"
    }
   ],
   "source": [
    "# Specify custom values for on and off encoding\n",
    "tf.one_hot(some_list, depth=4, on_value=\"hello\", off_value=\"tensor\")"
   ]
  },
  {
   "cell_type": "markdown",
   "id": "3154a22b",
   "metadata": {},
   "source": [
    "# Squaring, log, square root"
   ]
  },
  {
   "cell_type": "code",
   "execution_count": 197,
   "id": "378e0a3f",
   "metadata": {},
   "outputs": [
    {
     "data": {
      "text/plain": [
       "<tf.Tensor: shape=(9,), dtype=int32, numpy=array([1, 2, 3, 4, 5, 6, 7, 8, 9])>"
      ]
     },
     "execution_count": 197,
     "metadata": {},
     "output_type": "execute_result"
    }
   ],
   "source": [
    "# Create a new tensor\n",
    "H = tf.constant(np.arange(1, 10))\n",
    "H"
   ]
  },
  {
   "cell_type": "code",
   "execution_count": 192,
   "id": "26fa5f2f",
   "metadata": {},
   "outputs": [
    {
     "data": {
      "text/plain": [
       "<tf.Tensor: shape=(9,), dtype=int32, numpy=array([ 1,  4,  9, 16, 25, 36, 49, 64, 81])>"
      ]
     },
     "execution_count": 192,
     "metadata": {},
     "output_type": "execute_result"
    }
   ],
   "source": [
    "# Square it\n",
    "tf.square(H)"
   ]
  },
  {
   "cell_type": "code",
   "execution_count": null,
   "id": "451d0369",
   "metadata": {},
   "outputs": [],
   "source": [
    "# Find the squareroot (will error), needs to be non-integer so we need to convert into to float \n",
    "tf.sqrt(H)"
   ]
  },
  {
   "cell_type": "code",
   "execution_count": 199,
   "id": "c500e389",
   "metadata": {},
   "outputs": [
    {
     "data": {
      "text/plain": [
       "<tf.Tensor: shape=(9,), dtype=float16, numpy=\n",
       "array([1.   , 1.414, 1.732, 2.   , 2.236, 2.45 , 2.646, 2.828, 3.   ],\n",
       "      dtype=float16)>"
      ]
     },
     "execution_count": 199,
     "metadata": {},
     "output_type": "execute_result"
    }
   ],
   "source": [
    "H = tf.cast(H, dtype=tf.float16)\n",
    "tf.sqrt(H)"
   ]
  },
  {
   "cell_type": "code",
   "execution_count": 200,
   "id": "e3535aa7",
   "metadata": {},
   "outputs": [
    {
     "data": {
      "text/plain": [
       "<tf.Tensor: shape=(9,), dtype=float16, numpy=\n",
       "array([0.    , 0.6934, 1.099 , 1.387 , 1.609 , 1.792 , 1.946 , 2.08  ,\n",
       "       2.197 ], dtype=float16)>"
      ]
     },
     "execution_count": 200,
     "metadata": {},
     "output_type": "execute_result"
    }
   ],
   "source": [
    "# Find the log (input also needs to be float)\n",
    "tf.math.log(H)"
   ]
  },
  {
   "cell_type": "markdown",
   "id": "b14deec4",
   "metadata": {},
   "source": [
    "# Manipulating tf.Variable tensors<br>\n",
    "Tensors created with tf.Variable() can be changed in place using methods such as:<br>\n",
    "1) assign() - assign a different value to a particular index of a variable tensor.<br>\n",
    "2) add_assign() - add to an existing value and reassign it at a particular index of a variable tensor.<br>"
   ]
  },
  {
   "cell_type": "code",
   "execution_count": 201,
   "id": "c8e22748",
   "metadata": {},
   "outputs": [
    {
     "data": {
      "text/plain": [
       "<tf.Variable 'Variable:0' shape=(5,) dtype=int32, numpy=array([0, 1, 2, 3, 4])>"
      ]
     },
     "execution_count": 201,
     "metadata": {},
     "output_type": "execute_result"
    }
   ],
   "source": [
    "# Create a variable tensor\n",
    "I = tf.Variable(np.arange(0, 5))\n",
    "I"
   ]
  },
  {
   "cell_type": "code",
   "execution_count": 204,
   "id": "f77e1e8e",
   "metadata": {},
   "outputs": [
    {
     "data": {
      "text/plain": [
       "array([ 0,  1,  2,  3, 50])"
      ]
     },
     "execution_count": 204,
     "metadata": {},
     "output_type": "execute_result"
    }
   ],
   "source": [
    "# Assign the final value a new value of 50\n",
    "I.assign([0, 1, 2, 3, 50]).numpy() "
   ]
  },
  {
   "cell_type": "code",
   "execution_count": 205,
   "id": "907248ab",
   "metadata": {},
   "outputs": [
    {
     "data": {
      "text/plain": [
       "array([10, 11, 12, 13, 60])"
      ]
     },
     "execution_count": 205,
     "metadata": {},
     "output_type": "execute_result"
    }
   ],
   "source": [
    "# Add 10 to every element in I\n",
    "I.assign_add([10, 10, 10, 10, 10]).numpy()"
   ]
  },
  {
   "cell_type": "markdown",
   "id": "6dcd42dd",
   "metadata": {},
   "source": [
    "# Tensor and numpy"
   ]
  },
  {
   "cell_type": "markdown",
   "id": "6201c706",
   "metadata": {},
   "source": [
    "We've seen some examples of tensors interact with NumPy arrays, such as, using NumPy arrays to create tensors.<br>\n",
    "\n",
    "Tensors can also be converted to NumPy arrays using:<br>\n",
    "\n",
    "np.array() - pass a tensor to convert to an ndarray (NumPy's main datatype).<br>\n",
    "tensor.numpy() - call on a tensor to convert to an ndarray.<br>"
   ]
  },
  {
   "cell_type": "code",
   "execution_count": 213,
   "id": "8cf1842c",
   "metadata": {},
   "outputs": [
    {
     "data": {
      "text/plain": [
       "<tf.Tensor: shape=(5,), dtype=int32, numpy=array([3, 4, 5, 6, 7])>"
      ]
     },
     "execution_count": 213,
     "metadata": {},
     "output_type": "execute_result"
    }
   ],
   "source": [
    "# Create a tensor from a NumPy array\n",
    "J = tf.constant(np.array([3, 4, 5, 6, 7]))\n",
    "J"
   ]
  },
  {
   "cell_type": "code",
   "execution_count": 212,
   "id": "8f56c34b",
   "metadata": {},
   "outputs": [
    {
     "data": {
      "text/plain": [
       "(array([3, 4, 5, 6, 7]), numpy.ndarray)"
      ]
     },
     "execution_count": 212,
     "metadata": {},
     "output_type": "execute_result"
    }
   ],
   "source": [
    "# Convert tensor J to NumPy with np.array()\n",
    "J = np.array(J)\n",
    "J, type(J)"
   ]
  },
  {
   "cell_type": "code",
   "execution_count": 214,
   "id": "228e94af",
   "metadata": {},
   "outputs": [
    {
     "data": {
      "text/plain": [
       "(array([3, 4, 5, 6, 7]), numpy.ndarray)"
      ]
     },
     "execution_count": 214,
     "metadata": {},
     "output_type": "execute_result"
    }
   ],
   "source": [
    "# Convert tensor J to NumPy with .numpy()\n",
    "J.numpy(), type(J.numpy())"
   ]
  },
  {
   "cell_type": "code",
   "execution_count": null,
   "id": "3704322b",
   "metadata": {},
   "outputs": [],
   "source": []
  }
 ],
 "metadata": {
  "kernelspec": {
   "display_name": "Python 3 (ipykernel)",
   "language": "python",
   "name": "python3"
  },
  "language_info": {
   "codemirror_mode": {
    "name": "ipython",
    "version": 3
   },
   "file_extension": ".py",
   "mimetype": "text/x-python",
   "name": "python",
   "nbconvert_exporter": "python",
   "pygments_lexer": "ipython3",
   "version": "3.9.13"
  }
 },
 "nbformat": 4,
 "nbformat_minor": 5
}
